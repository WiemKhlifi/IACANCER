{
 "cells": [
  {
   "cell_type": "code",
   "execution_count": null,
   "metadata": {
    "id": "9bgPdAHo7dCE"
   },
   "outputs": [],
   "source": [
    "from tensorflow.keras.models import Sequential\n",
    "from tensorflow.keras.layers import Dense, Conv2D, MaxPool2D, Flatten\n",
    "from tensorflow.keras.preprocessing.image import ImageDataGenerator\n",
    "import random\n",
    "import os\n",
    "import matplotlib.pyplot as plt\n",
    "import numpy as np\n",
    "import shutil\n",
    "import glob"
   ]
  },
  {
   "cell_type": "code",
   "execution_count": null,
   "metadata": {
    "id": "8QGSReHQ7qcJ"
   },
   "outputs": [],
   "source": [
    "!mkdir ~/.kaggle"
   ]
  },
  {
   "cell_type": "code",
   "execution_count": null,
   "metadata": {
    "id": "joWTNZjw7sN_"
   },
   "outputs": [],
   "source": [
    "!ls ~/.kaggle"
   ]
  },
  {
   "cell_type": "code",
   "execution_count": null,
   "metadata": {
    "id": "YQDboPxd7u1O"
   },
   "outputs": [],
   "source": [
    "!mv kaggle.json ~/.kaggle"
   ]
  },
  {
   "cell_type": "code",
   "execution_count": null,
   "metadata": {
    "id": "rZnHqM1Z7wTR"
   },
   "outputs": [],
   "source": [
    "!chmod 600 ~/.kaggle/kaggle.json"
   ]
  },
  {
   "cell_type": "code",
   "execution_count": null,
   "metadata": {
    "colab": {
     "base_uri": "https://localhost:8080/"
    },
    "executionInfo": {
     "elapsed": 11380,
     "status": "ok",
     "timestamp": 1619017037582,
     "user": {
      "displayName": "Mohamed Nader Hachana",
      "photoUrl": "https://lh3.googleusercontent.com/a-/AOh14GgRsa1XTF-RjetQ3emzakYmGhgzzYI3aPDcoWTjFw=s64",
      "userId": "14829313383726148100"
     },
     "user_tz": -60
    },
    "id": "JoT5W-ns7ywR",
    "outputId": "242f6b1a-e648-4c89-9022-c5903da46250"
   },
   "outputs": [
    {
     "name": "stdout",
     "output_type": "stream",
     "text": [
      "Downloading skin-cancer9-classesisic.zip to /content\n",
      " 99% 774M/786M [00:09<00:00, 74.5MB/s]\n",
      "100% 786M/786M [00:09<00:00, 83.6MB/s]\n"
     ]
    }
   ],
   "source": [
    "!kaggle datasets download -d nodoubttome/skin-cancer9-classesisic"
   ]
  },
  {
   "cell_type": "code",
   "execution_count": null,
   "metadata": {
    "id": "NKtuPDTc70px"
   },
   "outputs": [],
   "source": [
    "!unzip skin-cancer9-classesisic.zip"
   ]
  },
  {
   "cell_type": "code",
   "execution_count": null,
   "metadata": {
    "colab": {
     "base_uri": "https://localhost:8080/"
    },
    "executionInfo": {
     "elapsed": 702,
     "status": "ok",
     "timestamp": 1619019621595,
     "user": {
      "displayName": "Mohamed Nader Hachana",
      "photoUrl": "https://lh3.googleusercontent.com/a-/AOh14GgRsa1XTF-RjetQ3emzakYmGhgzzYI3aPDcoWTjFw=s64",
      "userId": "14829313383726148100"
     },
     "user_tz": -60
    },
    "id": "vNBFt1PuETXG",
    "outputId": "9964e317-5ef1-4bc0-86fe-f71e65b1c756"
   },
   "outputs": [
    {
     "name": "stdout",
     "output_type": "stream",
     "text": [
      "114\n"
     ]
    }
   ],
   "source": [
    "os.chdir(\"/content/Skin_cancer_ISIC_The_International_Skin_Imaging_Collaboration/Train/actinic_keratosis\")\n",
    "!ls | wc -w"
   ]
  },
  {
   "cell_type": "code",
   "execution_count": null,
   "metadata": {
    "id": "HMwLIm8hCQ7e"
   },
   "outputs": [],
   "source": [
    "for image in random.sample( glob.glob(\"*\") ,10):\n",
    "  shutil.move(image,\"/content/Skin_cancer_ISIC_The_International_Skin_Imaging_Collaboration/Test/actinic_keratosis\")"
   ]
  },
  {
   "cell_type": "code",
   "execution_count": null,
   "metadata": {
    "colab": {
     "base_uri": "https://localhost:8080/"
    },
    "executionInfo": {
     "elapsed": 642,
     "status": "ok",
     "timestamp": 1619019669074,
     "user": {
      "displayName": "Mohamed Nader Hachana",
      "photoUrl": "https://lh3.googleusercontent.com/a-/AOh14GgRsa1XTF-RjetQ3emzakYmGhgzzYI3aPDcoWTjFw=s64",
      "userId": "14829313383726148100"
     },
     "user_tz": -60
    },
    "id": "q-R5SZoIF0xG",
    "outputId": "a9c0fe6d-6899-4810-d25e-0229e79cee13"
   },
   "outputs": [
    {
     "name": "stdout",
     "output_type": "stream",
     "text": [
      "/content\n"
     ]
    }
   ],
   "source": [
    "os.chdir(\"/content\")\n",
    "!pwd"
   ]
  },
  {
   "cell_type": "code",
   "execution_count": null,
   "metadata": {
    "colab": {
     "base_uri": "https://localhost:8080/"
    },
    "executionInfo": {
     "elapsed": 673,
     "status": "ok",
     "timestamp": 1619019891874,
     "user": {
      "displayName": "Mohamed Nader Hachana",
      "photoUrl": "https://lh3.googleusercontent.com/a-/AOh14GgRsa1XTF-RjetQ3emzakYmGhgzzYI3aPDcoWTjFw=s64",
      "userId": "14829313383726148100"
     },
     "user_tz": -60
    },
    "id": "_Sh7O84rGmiM",
    "outputId": "60eedc05-f83d-43e8-d6b1-6de1b2819181"
   },
   "outputs": [
    {
     "name": "stdout",
     "output_type": "stream",
     "text": [
      "376\n"
     ]
    }
   ],
   "source": [
    "os.chdir(\"/content/Skin_cancer_ISIC_The_International_Skin_Imaging_Collaboration/Train/basal_cell_carcinoma\")\n",
    "!ls | wc -w"
   ]
  },
  {
   "cell_type": "code",
   "execution_count": null,
   "metadata": {
    "id": "qaqJO8J6F6YN"
   },
   "outputs": [],
   "source": [
    "for image in random.sample( glob.glob(\"*\") ,62):\n",
    "  shutil.move(image,\"/content/Skin_cancer_ISIC_The_International_Skin_Imaging_Collaboration/Test/basal_cell_carcinoma\")"
   ]
  },
  {
   "cell_type": "code",
   "execution_count": null,
   "metadata": {
    "colab": {
     "base_uri": "https://localhost:8080/"
    },
    "executionInfo": {
     "elapsed": 639,
     "status": "ok",
     "timestamp": 1619019970050,
     "user": {
      "displayName": "Mohamed Nader Hachana",
      "photoUrl": "https://lh3.googleusercontent.com/a-/AOh14GgRsa1XTF-RjetQ3emzakYmGhgzzYI3aPDcoWTjFw=s64",
      "userId": "14829313383726148100"
     },
     "user_tz": -60
    },
    "id": "FgXJtKFOGz9E",
    "outputId": "af1951a7-934f-4cc5-9e31-8f666554ff6a"
   },
   "outputs": [
    {
     "name": "stdout",
     "output_type": "stream",
     "text": [
      "95\n"
     ]
    }
   ],
   "source": [
    "os.chdir(\"/content/Skin_cancer_ISIC_The_International_Skin_Imaging_Collaboration/Train/dermatofibroma\")\n",
    "!ls | wc -w"
   ]
  },
  {
   "cell_type": "code",
   "execution_count": null,
   "metadata": {
    "id": "talKLRrZG5QU"
   },
   "outputs": [],
   "source": [
    "for image in random.sample( glob.glob(\"*\") ,6):\n",
    "  shutil.move(image,\"/content/Skin_cancer_ISIC_The_International_Skin_Imaging_Collaboration/Test/dermatofibroma\")"
   ]
  },
  {
   "cell_type": "code",
   "execution_count": null,
   "metadata": {
    "colab": {
     "base_uri": "https://localhost:8080/"
    },
    "executionInfo": {
     "elapsed": 642,
     "status": "ok",
     "timestamp": 1619020034960,
     "user": {
      "displayName": "Mohamed Nader Hachana",
      "photoUrl": "https://lh3.googleusercontent.com/a-/AOh14GgRsa1XTF-RjetQ3emzakYmGhgzzYI3aPDcoWTjFw=s64",
      "userId": "14829313383726148100"
     },
     "user_tz": -60
    },
    "id": "Kl4keR0dHFtF",
    "outputId": "00da2287-831c-4aa6-e179-9ea8b8f37e33"
   },
   "outputs": [
    {
     "name": "stdout",
     "output_type": "stream",
     "text": [
      "438\n"
     ]
    }
   ],
   "source": [
    "os.chdir(\"/content/Skin_cancer_ISIC_The_International_Skin_Imaging_Collaboration/Train/melanoma\")\n",
    "!ls | wc -w"
   ]
  },
  {
   "cell_type": "code",
   "execution_count": null,
   "metadata": {
    "id": "gd9z4Z-GHF4M"
   },
   "outputs": [],
   "source": [
    "for image in random.sample( glob.glob(\"*\") ,75):\n",
    "  shutil.move(image,\"/content/Skin_cancer_ISIC_The_International_Skin_Imaging_Collaboration/Test/melanoma\")"
   ]
  },
  {
   "cell_type": "code",
   "execution_count": null,
   "metadata": {
    "colab": {
     "base_uri": "https://localhost:8080/"
    },
    "executionInfo": {
     "elapsed": 887,
     "status": "ok",
     "timestamp": 1619020095804,
     "user": {
      "displayName": "Mohamed Nader Hachana",
      "photoUrl": "https://lh3.googleusercontent.com/a-/AOh14GgRsa1XTF-RjetQ3emzakYmGhgzzYI3aPDcoWTjFw=s64",
      "userId": "14829313383726148100"
     },
     "user_tz": -60
    },
    "id": "qVPKW_lpHWBV",
    "outputId": "17b157de-7623-49cd-e1c9-fdc23845deba"
   },
   "outputs": [
    {
     "name": "stdout",
     "output_type": "stream",
     "text": [
      "357\n"
     ]
    }
   ],
   "source": [
    "os.chdir(\"/content/Skin_cancer_ISIC_The_International_Skin_Imaging_Collaboration/Train/nevus\")\n",
    "!ls | wc -w"
   ]
  },
  {
   "cell_type": "code",
   "execution_count": null,
   "metadata": {
    "id": "78VNm-HwHWJb"
   },
   "outputs": [],
   "source": [
    "for image in random.sample( glob.glob(\"*\") ,59):\n",
    "  shutil.move(image,\"/content/Skin_cancer_ISIC_The_International_Skin_Imaging_Collaboration/Test/nevus\")"
   ]
  },
  {
   "cell_type": "code",
   "execution_count": null,
   "metadata": {
    "colab": {
     "base_uri": "https://localhost:8080/"
    },
    "executionInfo": {
     "elapsed": 1452,
     "status": "ok",
     "timestamp": 1619020418494,
     "user": {
      "displayName": "Mohamed Nader Hachana",
      "photoUrl": "https://lh3.googleusercontent.com/a-/AOh14GgRsa1XTF-RjetQ3emzakYmGhgzzYI3aPDcoWTjFw=s64",
      "userId": "14829313383726148100"
     },
     "user_tz": -60
    },
    "id": "IrzGebjaHjKl",
    "outputId": "e941b65c-c696-49a8-8d85-df6b63e44a9d"
   },
   "outputs": [
    {
     "name": "stdout",
     "output_type": "stream",
     "text": [
      "382\n"
     ]
    }
   ],
   "source": [
    "os.chdir(\"/content/Skin_cancer_ISIC_The_International_Skin_Imaging_Collaboration/Train/pigmented_benign_keratosis\")\n",
    "!ls | wc -w"
   ]
  },
  {
   "cell_type": "code",
   "execution_count": null,
   "metadata": {
    "id": "D5_0x0bbHjNk"
   },
   "outputs": [],
   "source": [
    "for image in random.sample( glob.glob(\"*\") ,80):\n",
    "  shutil.move(image,\"/content/Skin_cancer_ISIC_The_International_Skin_Imaging_Collaboration/Test/pigmented_benign_keratosis\")"
   ]
  },
  {
   "cell_type": "code",
   "execution_count": null,
   "metadata": {
    "colab": {
     "base_uri": "https://localhost:8080/"
    },
    "executionInfo": {
     "elapsed": 630,
     "status": "ok",
     "timestamp": 1619020166484,
     "user": {
      "displayName": "Mohamed Nader Hachana",
      "photoUrl": "https://lh3.googleusercontent.com/a-/AOh14GgRsa1XTF-RjetQ3emzakYmGhgzzYI3aPDcoWTjFw=s64",
      "userId": "14829313383726148100"
     },
     "user_tz": -60
    },
    "id": "sz8M_YDOHp_e",
    "outputId": "8b7b4de0-cab1-4464-8b43-cbcf3d264599"
   },
   "outputs": [
    {
     "name": "stdout",
     "output_type": "stream",
     "text": [
      "77\n"
     ]
    }
   ],
   "source": [
    "os.chdir(\"/content/Skin_cancer_ISIC_The_International_Skin_Imaging_Collaboration/Train/seborrheic_keratosis\")\n",
    "!ls | wc -w"
   ]
  },
  {
   "cell_type": "code",
   "execution_count": null,
   "metadata": {
    "id": "0E79JgMLHqH0"
   },
   "outputs": [],
   "source": [
    "for image in random.sample( glob.glob(\"*\") ,13):\n",
    "  shutil.move(image,\"/content/Skin_cancer_ISIC_The_International_Skin_Imaging_Collaboration/Test/seborrheic_keratosis\")"
   ]
  },
  {
   "cell_type": "code",
   "execution_count": null,
   "metadata": {
    "colab": {
     "base_uri": "https://localhost:8080/"
    },
    "executionInfo": {
     "elapsed": 664,
     "status": "ok",
     "timestamp": 1619020214268,
     "user": {
      "displayName": "Mohamed Nader Hachana",
      "photoUrl": "https://lh3.googleusercontent.com/a-/AOh14GgRsa1XTF-RjetQ3emzakYmGhgzzYI3aPDcoWTjFw=s64",
      "userId": "14829313383726148100"
     },
     "user_tz": -60
    },
    "id": "-b0kGFV9H0WF",
    "outputId": "61555db8-9987-4215-ef1b-1ac696f9a238"
   },
   "outputs": [
    {
     "name": "stdout",
     "output_type": "stream",
     "text": [
      "181\n"
     ]
    }
   ],
   "source": [
    "os.chdir(\"/content/Skin_cancer_ISIC_The_International_Skin_Imaging_Collaboration/Train/squamous_cell_carcinoma\")\n",
    "!ls | wc -w"
   ]
  },
  {
   "cell_type": "code",
   "execution_count": null,
   "metadata": {
    "id": "iZEaGib7H0ds"
   },
   "outputs": [],
   "source": [
    "for image in random.sample( glob.glob(\"*\") ,23):\n",
    "  shutil.move(image,\"/content/Skin_cancer_ISIC_The_International_Skin_Imaging_Collaboration/Test/squamous_cell_carcinoma\")"
   ]
  },
  {
   "cell_type": "code",
   "execution_count": null,
   "metadata": {
    "colab": {
     "base_uri": "https://localhost:8080/"
    },
    "executionInfo": {
     "elapsed": 891,
     "status": "ok",
     "timestamp": 1619020271366,
     "user": {
      "displayName": "Mohamed Nader Hachana",
      "photoUrl": "https://lh3.googleusercontent.com/a-/AOh14GgRsa1XTF-RjetQ3emzakYmGhgzzYI3aPDcoWTjFw=s64",
      "userId": "14829313383726148100"
     },
     "user_tz": -60
    },
    "id": "a_s6s6ATIAwV",
    "outputId": "ebd8212f-084b-4da6-b36c-8cb7d4d9ae3e"
   },
   "outputs": [
    {
     "name": "stdout",
     "output_type": "stream",
     "text": [
      "139\n"
     ]
    }
   ],
   "source": [
    "os.chdir(\"/content/Skin_cancer_ISIC_The_International_Skin_Imaging_Collaboration/Train/vascular_lesion\")\n",
    "!ls | wc -w"
   ]
  },
  {
   "cell_type": "code",
   "execution_count": null,
   "metadata": {
    "id": "FDBtEpUDIA3s"
   },
   "outputs": [],
   "source": [
    "for image in random.sample( glob.glob(\"*\") ,25):\n",
    "  shutil.move(image,\"/content/Skin_cancer_ISIC_The_International_Skin_Imaging_Collaboration/Test/vascular_lesion\")"
   ]
  },
  {
   "cell_type": "code",
   "execution_count": null,
   "metadata": {
    "colab": {
     "base_uri": "https://localhost:8080/"
    },
    "executionInfo": {
     "elapsed": 3056,
     "status": "ok",
     "timestamp": 1619020446158,
     "user": {
      "displayName": "Mohamed Nader Hachana",
      "photoUrl": "https://lh3.googleusercontent.com/a-/AOh14GgRsa1XTF-RjetQ3emzakYmGhgzzYI3aPDcoWTjFw=s64",
      "userId": "14829313383726148100"
     },
     "user_tz": -60
    },
    "id": "XajLwkgC757S",
    "outputId": "38f21751-d172-4371-c9f4-1cdcd105890d"
   },
   "outputs": [
    {
     "name": "stdout",
     "output_type": "stream",
     "text": [
      "26\n",
      "78\n",
      "22\n",
      "91\n",
      "75\n",
      "96\n",
      "16\n",
      "39\n",
      "28\n"
     ]
    }
   ],
   "source": [
    "!ls /content/Skin*/Test/actinic* | wc -w\n",
    "!ls /content/Skin*/Test/basal* | wc -w\n",
    "!ls /content/Skin*/Test/dermatofibroma | wc -w\n",
    "!ls /content/Skin*/Test/melanoma | wc -w\n",
    "!ls /content/Skin*/Test/nevus | wc -w\n",
    "!ls /content/Skin*/Test/pigmented* | wc -w\n",
    "!ls /content/Skin*/Test/seborrheic* | wc -w\n",
    "!ls /content/Skin*/Test/squamous* | wc -w\n",
    "!ls /content/Skin*/Test/vascular* | wc -w\n",
    "\n"
   ]
  },
  {
   "cell_type": "code",
   "execution_count": null,
   "metadata": {
    "colab": {
     "base_uri": "https://localhost:8080/"
    },
    "executionInfo": {
     "elapsed": 2523,
     "status": "ok",
     "timestamp": 1619020454681,
     "user": {
      "displayName": "Mohamed Nader Hachana",
      "photoUrl": "https://lh3.googleusercontent.com/a-/AOh14GgRsa1XTF-RjetQ3emzakYmGhgzzYI3aPDcoWTjFw=s64",
      "userId": "14829313383726148100"
     },
     "user_tz": -60
    },
    "id": "fFOeI8DD8BSd",
    "outputId": "43efabf1-e539-4e5f-acda-86bca63b8a6f"
   },
   "outputs": [
    {
     "name": "stdout",
     "output_type": "stream",
     "text": [
      "104\n",
      "314\n",
      "89\n",
      "363\n",
      "298\n",
      "382\n",
      "64\n",
      "158\n",
      "114\n"
     ]
    }
   ],
   "source": [
    "!ls /content/Skin*/Train/actinic* | wc -w\n",
    "!ls /content/Skin*/Train/basal* | wc -w\n",
    "!ls /content/Skin*/Train/dermatofibroma | wc -w\n",
    "!ls /content/Skin*/Train/melanoma | wc -w\n",
    "!ls /content/Skin*/Train/nevus | wc -w\n",
    "!ls /content/Skin*/Train/pigmented* | wc -w\n",
    "!ls /content/Skin*/Train/seborrheic* | wc -w\n",
    "!ls /content/Skin*/Train/squamous* | wc -w\n",
    "!ls /content/Skin*/Train/vascular* | wc -w"
   ]
  },
  {
   "cell_type": "code",
   "execution_count": null,
   "metadata": {
    "id": "rmPTaSwn8LZO"
   },
   "outputs": [],
   "source": [
    "classes=[\"actinic keratosis\",\"basal cell carcinoma\",\"dermatofibroma\",\"melanoma\",\"nevus\",\"pigmented benign keratosis\",\"seborrheic keratosis\",\"squamous cell carcinoma\",\"vascular lesion\"]"
   ]
  },
  {
   "cell_type": "code",
   "execution_count": null,
   "metadata": {
    "id": "9fwe5kMz8NpX"
   },
   "outputs": [],
   "source": [
    "os.chdir(\"/content/Skin_cancer_ISIC_The_International_Skin_Imaging_Collaboration\")\n"
   ]
  },
  {
   "cell_type": "code",
   "execution_count": null,
   "metadata": {
    "colab": {
     "base_uri": "https://localhost:8080/"
    },
    "executionInfo": {
     "elapsed": 684,
     "status": "ok",
     "timestamp": 1619020504636,
     "user": {
      "displayName": "Mohamed Nader Hachana",
      "photoUrl": "https://lh3.googleusercontent.com/a-/AOh14GgRsa1XTF-RjetQ3emzakYmGhgzzYI3aPDcoWTjFw=s64",
      "userId": "14829313383726148100"
     },
     "user_tz": -60
    },
    "id": "trL6mvT38PaW",
    "outputId": "c0e3aa2a-21ce-4344-e01f-f0f97cac77f3"
   },
   "outputs": [
    {
     "name": "stdout",
     "output_type": "stream",
     "text": [
      "/content/Skin_cancer_ISIC_The_International_Skin_Imaging_Collaboration\n"
     ]
    }
   ],
   "source": [
    "!pwd"
   ]
  },
  {
   "cell_type": "code",
   "execution_count": null,
   "metadata": {
    "colab": {
     "base_uri": "https://localhost:8080/"
    },
    "executionInfo": {
     "elapsed": 1177,
     "status": "ok",
     "timestamp": 1619020508641,
     "user": {
      "displayName": "Mohamed Nader Hachana",
      "photoUrl": "https://lh3.googleusercontent.com/a-/AOh14GgRsa1XTF-RjetQ3emzakYmGhgzzYI3aPDcoWTjFw=s64",
      "userId": "14829313383726148100"
     },
     "user_tz": -60
    },
    "id": "8btjaI098Q8o",
    "outputId": "d3e44203-442b-4a93-8966-9ae3c6af053d"
   },
   "outputs": [
    {
     "name": "stdout",
     "output_type": "stream",
     "text": [
      "Found 188 images belonging to 9 classes.\n",
      "Found 750 images belonging to 9 classes.\n"
     ]
    }
   ],
   "source": [
    "test_batches = ImageDataGenerator().flow_from_directory(directory=\"./Test\",classes=classes,target_size=(224,224),batch_size=32)\n",
    "train_batches = ImageDataGenerator().flow_from_directory(directory=\"./Train\",classes=classes,target_size=(224,224),batch_size=32)"
   ]
  },
  {
   "cell_type": "code",
   "execution_count": null,
   "metadata": {
    "colab": {
     "base_uri": "https://localhost:8080/"
    },
    "executionInfo": {
     "elapsed": 651,
     "status": "ok",
     "timestamp": 1619020513397,
     "user": {
      "displayName": "Mohamed Nader Hachana",
      "photoUrl": "https://lh3.googleusercontent.com/a-/AOh14GgRsa1XTF-RjetQ3emzakYmGhgzzYI3aPDcoWTjFw=s64",
      "userId": "14829313383726148100"
     },
     "user_tz": -60
    },
    "id": "q_ytdgBX8UpC",
    "outputId": "b0e382b1-4b82-41b4-8f2e-f10049b23ce6"
   },
   "outputs": [
    {
     "data": {
      "text/plain": [
       "{'actinic keratosis': 0,\n",
       " 'basal cell carcinoma': 1,\n",
       " 'dermatofibroma': 2,\n",
       " 'melanoma': 3,\n",
       " 'nevus': 4,\n",
       " 'pigmented benign keratosis': 5,\n",
       " 'seborrheic keratosis': 6,\n",
       " 'squamous cell carcinoma': 7,\n",
       " 'vascular lesion': 8}"
      ]
     },
     "execution_count": 69,
     "metadata": {
      "tags": []
     },
     "output_type": "execute_result"
    }
   ],
   "source": [
    "test_batches.class_indices"
   ]
  },
  {
   "cell_type": "code",
   "execution_count": null,
   "metadata": {
    "colab": {
     "base_uri": "https://localhost:8080/",
     "height": 302
    },
    "executionInfo": {
     "elapsed": 2424,
     "status": "ok",
     "timestamp": 1619020517678,
     "user": {
      "displayName": "Mohamed Nader Hachana",
      "photoUrl": "https://lh3.googleusercontent.com/a-/AOh14GgRsa1XTF-RjetQ3emzakYmGhgzzYI3aPDcoWTjFw=s64",
      "userId": "14829313383726148100"
     },
     "user_tz": -60
    },
    "id": "1AybYFbP8Ymx",
    "outputId": "f17f6ec1-fd46-49a9-96c9-3590eaab3578"
   },
   "outputs": [
    {
     "name": "stdout",
     "output_type": "stream",
     "text": [
      "(32, 224, 224, 3)\n",
      "[0. 0. 1. 0. 0. 0. 0. 0. 0.]\n"
     ]
    },
    {
     "data": {
      "image/png": "[encoded data removed]",
      "text/plain": [
       "<Figure size 432x288 with 1 Axes>"
      ]
     },
     "metadata": {
      "needs_background": "light",
      "tags": []
     },
     "output_type": "display_data"
    }
   ],
   "source": [
    "images , lables = next(test_batches)\n",
    "print(images.shape)\n",
    "plt.imshow(images[0]/255)\n",
    "print(lables[0])"
   ]
  },
  {
   "cell_type": "code",
   "execution_count": null,
   "metadata": {
    "id": "F_-auvKF8aue"
   },
   "outputs": [],
   "source": [
    "model = Sequential([\n",
    "\n",
    "                    Conv2D(filters=32,kernel_size=(3,3),padding=\"same\",input_shape=(224,224,3)),\n",
    "                    MaxPool2D(pool_size=(2,2),strides=2),\n",
    "                    Conv2D(filters=64,kernel_size=(3,3),padding=\"same\"),\n",
    "                    MaxPool2D(pool_size=(2,2),strides=2),\n",
    "                    Flatten(),\n",
    "                    Dense(64,activation=\"relu\"),\n",
    "                    Dense(64,activation=\"relu\"),\n",
    "                    Dense(128,activation=\"relu\"),\n",
    "                    Dense(9,activation=\"softmax\")\n",
    "])\n",
    "\n",
    "# cNN"
   ]
  },
  {
   "cell_type": "code",
   "execution_count": null,
   "metadata": {
    "id": "Dj-u89v18dwR"
   },
   "outputs": [],
   "source": [
    "model.compile(optimizer=\"adam\",loss=\"categorical_crossentropy\",metrics=[\"accuracy\"])"
   ]
  },
  {
   "cell_type": "code",
   "execution_count": null,
   "metadata": {
    "colab": {
     "base_uri": "https://localhost:8080/"
    },
    "executionInfo": {
     "elapsed": 206939,
     "status": "ok",
     "timestamp": 1619020777665,
     "user": {
      "displayName": "Mohamed Nader Hachana",
      "photoUrl": "https://lh3.googleusercontent.com/a-/AOh14GgRsa1XTF-RjetQ3emzakYmGhgzzYI3aPDcoWTjFw=s64",
      "userId": "14829313383726148100"
     },
     "user_tz": -60
    },
    "id": "4Ivo-mpQ8hNs",
    "outputId": "a2fddbc5-d765-4420-fed2-5d2b3048898b"
   },
   "outputs": [
    {
     "name": "stdout",
     "output_type": "stream",
     "text": [
      "Epoch 1/10\n",
      "24/24 [==============================] - 27s 1s/step - loss: 1248.4402 - accuracy: 0.3079 - val_loss: 387.1399 - val_accuracy: 0.1277\n",
      "Epoch 2/10\n",
      "24/24 [==============================] - 25s 1s/step - loss: 436.5163 - accuracy: 0.3814 - val_loss: 58.0519 - val_accuracy: 0.4894\n",
      "Epoch 3/10\n",
      "24/24 [==============================] - 24s 1s/step - loss: 31.6201 - accuracy: 0.6096 - val_loss: 16.6648 - val_accuracy: 0.6543\n",
      "Epoch 4/10\n",
      "24/24 [==============================] - 25s 1s/step - loss: 13.1636 - accuracy: 0.6203 - val_loss: 37.4465 - val_accuracy: 0.4787\n",
      "Epoch 5/10\n",
      "24/24 [==============================] - 25s 1s/step - loss: 10.4664 - accuracy: 0.6526 - val_loss: 11.5261 - val_accuracy: 0.6383\n",
      "Epoch 6/10\n",
      "24/24 [==============================] - 24s 1s/step - loss: 4.5599 - accuracy: 0.7094 - val_loss: 6.7330 - val_accuracy: 0.6277\n",
      "Epoch 7/10\n",
      "24/24 [==============================] - 25s 1s/step - loss: 1.9440 - accuracy: 0.7424 - val_loss: 5.7369 - val_accuracy: 0.6117\n",
      "Epoch 8/10\n",
      "24/24 [==============================] - 25s 1s/step - loss: 3.3639 - accuracy: 0.7186 - val_loss: 5.6227 - val_accuracy: 0.5957\n",
      "Epoch 9/10\n",
      "24/24 [==============================] - 24s 1s/step - loss: 2.4680 - accuracy: 0.6871 - val_loss: 8.2054 - val_accuracy: 0.5319\n",
      "Epoch 10/10\n",
      "24/24 [==============================] - 24s 1s/step - loss: 2.2428 - accuracy: 0.7203 - val_loss: 5.0093 - val_accuracy: 0.6543\n"
     ]
    },
    {
     "data": {
      "text/plain": [
       "<tensorflow.python.keras.callbacks.History at 0x7f83ca31dd10>"
      ]
     },
     "execution_count": 73,
     "metadata": {
      "tags": []
     },
     "output_type": "execute_result"
    }
   ],
   "source": [
    "model.fit(train_batches,validation_data=test_batches,epochs=10)"
   ]
  }
 ],
 "metadata": {
  "accelerator": "GPU",
  "colab": {
   "collapsed_sections": [],
   "name": "Copie de Copy of Skin_Cancer_type_2.ipynb",
   "provenance": [
    {
     "file_id": "1PDPBp5k1RiIrM0ClKyr76zLbzQBsgQfP",
     "timestamp": 1619104667063
    },
    {
     "file_id": "1MUSXO_fzzre7gAKw66OEFmunGNQTfVuO",
     "timestamp": 1619023941114
    }
   ]
  },
  "kernelspec": {
   "display_name": "Python 3",
   "language": "python",
   "name": "python3"
  },
  "language_info": {
   "codemirror_mode": {
    "name": "ipython",
    "version": 3
   },
   "file_extension": ".py",
   "mimetype": "text/x-python",
   "name": "python",
   "nbconvert_exporter": "python",
   "pygments_lexer": "ipython3",
   "version": "3.8.8"
  }
 },
 "nbformat": 4,
 "nbformat_minor": 1
}
